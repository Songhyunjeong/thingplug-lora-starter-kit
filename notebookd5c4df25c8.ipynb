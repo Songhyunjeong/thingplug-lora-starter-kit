{
  "metadata": {
    "kernelspec": {
      "language": "python",
      "display_name": "Python 3",
      "name": "python3"
    },
    "language_info": {
      "name": "python",
      "version": "3.10.12",
      "mimetype": "text/x-python",
      "codemirror_mode": {
        "name": "ipython",
        "version": 3
      },
      "pygments_lexer": "ipython3",
      "nbconvert_exporter": "python",
      "file_extension": ".py"
    },
    "kaggle": {
      "accelerator": "none",
      "dataSources": [
        {
          "sourceId": 7134966,
          "sourceType": "datasetVersion",
          "datasetId": 4116903
        },
        {
          "sourceId": 7683464,
          "sourceType": "datasetVersion",
          "datasetId": 4483020
        },
        {
          "sourceId": 7703368,
          "sourceType": "datasetVersion",
          "datasetId": 4497059
        }
      ],
      "dockerImageVersionId": 30587,
      "isInternetEnabled": true,
      "language": "python",
      "sourceType": "notebook",
      "isGpuEnabled": false
    },
    "colab": {
      "name": "notebookd5c4df25c8",
      "provenance": [],
      "include_colab_link": true
    }
  },
  "nbformat_minor": 0,
  "nbformat": 4,
  "cells": [
    {
      "cell_type": "markdown",
      "metadata": {
        "id": "view-in-github",
        "colab_type": "text"
      },
      "source": [
        "<a href=\"https://colab.research.google.com/github/Songhyunjeong/thingplug-lora-starter-kit/blob/master/notebookd5c4df25c8.ipynb\" target=\"_parent\"><img src=\"https://colab.research.google.com/assets/colab-badge.svg\" alt=\"Open In Colab\"/></a>"
      ]
    },
    {
      "source": [
        "\n",
        "# IMPORTANT: RUN THIS CELL IN ORDER TO IMPORT YOUR KAGGLE DATA SOURCES\n",
        "# TO THE CORRECT LOCATION (/kaggle/input) IN YOUR NOTEBOOK,\n",
        "# THEN FEEL FREE TO DELETE THIS CELL.\n",
        "# NOTE: THIS NOTEBOOK ENVIRONMENT DIFFERS FROM KAGGLE'S PYTHON\n",
        "# ENVIRONMENT SO THERE MAY BE MISSING LIBRARIES USED BY YOUR\n",
        "# NOTEBOOK.\n",
        "\n",
        "import os\n",
        "import sys\n",
        "from tempfile import NamedTemporaryFile\n",
        "from urllib.request import urlopen\n",
        "from urllib.parse import unquote, urlparse\n",
        "from urllib.error import HTTPError\n",
        "from zipfile import ZipFile\n",
        "import tarfile\n",
        "import shutil\n",
        "\n",
        "CHUNK_SIZE = 40960\n",
        "DATA_SOURCE_MAPPING = 'postpia4:https%3A%2F%2Fstorage.googleapis.com%2Fkaggle-data-sets%2F4116903%2F7134966%2Fbundle%2Farchive.zip%3FX-Goog-Algorithm%3DGOOG4-RSA-SHA256%26X-Goog-Credential%3Dgcp-kaggle-com%2540kaggle-161607.iam.gserviceaccount.com%252F20240226%252Fauto%252Fstorage%252Fgoog4_request%26X-Goog-Date%3D20240226T084303Z%26X-Goog-Expires%3D259200%26X-Goog-SignedHeaders%3Dhost%26X-Goog-Signature%3D5c0c4dba68abc21dd87507b78bb2345deaf469af9b0a155379ec8e85677f1ad73168da523a57e2f894f9c5f6f40358244907684c983a20584deb457e23e6f40b21d26d87340e3b284e33f81b479b4dac97bcca604ad5d8dbfd246cedd0e08a1535c51e97d2cfbb67e3579690e365ddb1be797f6f62f8aa69e3b6d61e028ec13a56966a30024f457d376940c36fb357be3e038710d9d9a5f5815bad2f2392b0270fd713bfad16a52a19ea5836a3f6f38c90febcd0ea24f9eb160d7b2ab50d893b4f3380195ebaed2398f4649b5d43bca3cbc779fc20eb43fb6382309367afe08bbe0dfcb987f44a06a8245af9f3e13d1f8de575f95d7b178b1d3e6ce14500e738,basic-01:https%3A%2F%2Fstorage.googleapis.com%2Fkaggle-data-sets%2F4483020%2F7683464%2Fbundle%2Farchive.zip%3FX-Goog-Algorithm%3DGOOG4-RSA-SHA256%26X-Goog-Credential%3Dgcp-kaggle-com%2540kaggle-161607.iam.gserviceaccount.com%252F20240226%252Fauto%252Fstorage%252Fgoog4_request%26X-Goog-Date%3D20240226T084303Z%26X-Goog-Expires%3D259200%26X-Goog-SignedHeaders%3Dhost%26X-Goog-Signature%3D02af107f31b3673a81e364ed7d720a4ed6078b2b64bf13015ea17a0f40b2a59111cd2427268bbef627d77f23aedcc97144c5264db22763fd215936640f92eb94db398767ff880a2eba3955c959942d53b98a0a05ee52f46c7378614a29533e3cf5a36f804a6e50b428ae64b90a6b62bffa7b870bc9a8f215c2da4c8354b1608f1673776fd0fc42564828da527c455bd6d68f2af91805f8d789e2a60943d430f10f583c58b04f0222b164840b03cd6e5429dacbff9b27ef9f36d45efe5c3f7911c403d3a9577b4e651adc3ddd497cd2e307f289c71d7504496756232649520e8e684407f815c144ed702c59ea1dbf411134315e535d700d54865a789e79c4bd02,data-02:https%3A%2F%2Fstorage.googleapis.com%2Fkaggle-data-sets%2F4497059%2F7703368%2Fbundle%2Farchive.zip%3FX-Goog-Algorithm%3DGOOG4-RSA-SHA256%26X-Goog-Credential%3Dgcp-kaggle-com%2540kaggle-161607.iam.gserviceaccount.com%252F20240226%252Fauto%252Fstorage%252Fgoog4_request%26X-Goog-Date%3D20240226T084303Z%26X-Goog-Expires%3D259200%26X-Goog-SignedHeaders%3Dhost%26X-Goog-Signature%3D45eae022cd0bdffb519b71cbeeabf80e4905863d70c6fe8d79eae8e01518e12d0b24e91d4951b12f15e7474ff5cc5f2003ca017a7d8975cffc531b0caa17efbca79bcf09efd6ab5a7045efadb694d9660c9654d0d2e55f50eef9caf59fcdfc6046b3b72846318cef64b5190a788c5f008cc3d37a22fcedd3a672c322070b24366fce2d1e7295e5fcbb6fe77875df4fc46005994f70853918f6c64e83dcb1938397067e78c56857401483951f8d18b74877f1e46f40c5a2c4cb614bd269fd0585e8aaee576999f9020bfd3e9de2637d8dee496f1c727c7e527ae5e88282f116de434778eba8ed6cebe5cf5285307e26e9f7376ad5db42da2fb90f5171b2216e5c'\n",
        "\n",
        "KAGGLE_INPUT_PATH='/kaggle/input'\n",
        "KAGGLE_WORKING_PATH='/kaggle/working'\n",
        "KAGGLE_SYMLINK='kaggle'\n",
        "\n",
        "!umount /kaggle/input/ 2> /dev/null\n",
        "shutil.rmtree('/kaggle/input', ignore_errors=True)\n",
        "os.makedirs(KAGGLE_INPUT_PATH, 0o777, exist_ok=True)\n",
        "os.makedirs(KAGGLE_WORKING_PATH, 0o777, exist_ok=True)\n",
        "\n",
        "try:\n",
        "  os.symlink(KAGGLE_INPUT_PATH, os.path.join(\"..\", 'input'), target_is_directory=True)\n",
        "except FileExistsError:\n",
        "  pass\n",
        "try:\n",
        "  os.symlink(KAGGLE_WORKING_PATH, os.path.join(\"..\", 'working'), target_is_directory=True)\n",
        "except FileExistsError:\n",
        "  pass\n",
        "\n",
        "for data_source_mapping in DATA_SOURCE_MAPPING.split(','):\n",
        "    directory, download_url_encoded = data_source_mapping.split(':')\n",
        "    download_url = unquote(download_url_encoded)\n",
        "    filename = urlparse(download_url).path\n",
        "    destination_path = os.path.join(KAGGLE_INPUT_PATH, directory)\n",
        "    try:\n",
        "        with urlopen(download_url) as fileres, NamedTemporaryFile() as tfile:\n",
        "            total_length = fileres.headers['content-length']\n",
        "            print(f'Downloading {directory}, {total_length} bytes compressed')\n",
        "            dl = 0\n",
        "            data = fileres.read(CHUNK_SIZE)\n",
        "            while len(data) > 0:\n",
        "                dl += len(data)\n",
        "                tfile.write(data)\n",
        "                done = int(50 * dl / int(total_length))\n",
        "                sys.stdout.write(f\"\\r[{'=' * done}{' ' * (50-done)}] {dl} bytes downloaded\")\n",
        "                sys.stdout.flush()\n",
        "                data = fileres.read(CHUNK_SIZE)\n",
        "            if filename.endswith('.zip'):\n",
        "              with ZipFile(tfile) as zfile:\n",
        "                zfile.extractall(destination_path)\n",
        "            else:\n",
        "              with tarfile.open(tfile.name) as tarfile:\n",
        "                tarfile.extractall(destination_path)\n",
        "            print(f'\\nDownloaded and uncompressed: {directory}')\n",
        "    except HTTPError as e:\n",
        "        print(f'Failed to load (likely expired) {download_url} to path {destination_path}')\n",
        "        continue\n",
        "    except OSError as e:\n",
        "        print(f'Failed to load {download_url} to path {destination_path}')\n",
        "        continue\n",
        "\n",
        "print('Data source import complete.')\n"
      ],
      "metadata": {
        "id": "Rw3WqsqalQOJ",
        "outputId": "1ca88ee2-ce61-4c16-bc77-2517fd1cd445",
        "colab": {
          "base_uri": "https://localhost:8080/"
        }
      },
      "cell_type": "code",
      "outputs": [
        {
          "output_type": "stream",
          "name": "stdout",
          "text": [
            "Downloading postpia4, 1193429 bytes compressed\n",
            "[==================================================] 1193429 bytes downloaded\n",
            "Downloaded and uncompressed: postpia4\n",
            "Downloading basic-01, 5253153 bytes compressed\n",
            "[==================================================] 5253153 bytes downloaded\n",
            "Downloaded and uncompressed: basic-01\n",
            "Downloading data-02, 6831306 bytes compressed\n",
            "[==================================================] 6831306 bytes downloaded\n",
            "Downloaded and uncompressed: data-02\n",
            "Data source import complete.\n"
          ]
        }
      ],
      "execution_count": 1
    },
    {
      "cell_type": "code",
      "source": [
        "# This Python 3 environment comes with many helpful analytics libraries installed\n",
        "# It is defined by the kaggle/python Docker image: https://github.com/kaggle/docker-python\n",
        "# For example, here's several helpful packages to load\n",
        "\n",
        "import numpy as np # linear algebra\n",
        "import pandas as pd # data processing, CSV file I/O (e.g. pd.read_csv)\n",
        "\n",
        "# Input data files are available in the read-only \"../input/\" directory\n",
        "# For example, running this (by clicking run or pressing Shift+Enter) will list all files under the input directory\n",
        "\n",
        "import os\n",
        "for dirname, _, filenames in os.walk('/kaggle/input'):\n",
        "    for filename in filenames:\n",
        "        print(os.path.join(dirname, filename))\n",
        "\n",
        "# You can write up to 20GB to the current directory (/kaggle/working/) that gets preserved as output when you create a version using \"Save & Run All\"\n",
        "# You can also write temporary files to /kaggle/temp/, but they won't be saved outside of the current session"
      ],
      "metadata": {
        "_uuid": "8f2839f25d086af736a60e9eeb907d3b93b6e0e5",
        "_cell_guid": "b1076dfc-b9ad-4769-8c92-a6c4dae69d19",
        "execution": {
          "iopub.status.busy": "2024-02-26T08:36:19.888548Z",
          "iopub.execute_input": "2024-02-26T08:36:19.888993Z",
          "iopub.status.idle": "2024-02-26T08:36:19.906314Z",
          "shell.execute_reply.started": "2024-02-26T08:36:19.888955Z",
          "shell.execute_reply": "2024-02-26T08:36:19.905379Z"
        },
        "trusted": true,
        "id": "TMQncZ8QlQOK",
        "outputId": "185f2c51-76d0-4e80-94c3-76ed9380c239",
        "colab": {
          "base_uri": "https://localhost:8080/"
        }
      },
      "execution_count": 2,
      "outputs": [
        {
          "output_type": "stream",
          "name": "stdout",
          "text": [
            "/kaggle/input/data-02/data.pdf\n",
            "/kaggle/input/postpia4/opendata.pdf\n",
            "/kaggle/input/basic-01/basic_manual.pdf\n"
          ]
        }
      ]
    },
    {
      "cell_type": "markdown",
      "source": [
        "아래 코드를 차례대로 실행하거나 Run All 실행하세요.원하는 파일(PDF)을 업로드하여 변경 적용해주시면 됩니다.샘플로 보시고 업무에 적용해 보시면 좋을 듯합니다.(카피해서 새로운 노트북 생성해서 사용하셔도 됩니다)\n",
        "키값은 유료계정으로 발급받은 키값이고 현재 약 20달러 충전되어 있습니다. 많이 사용해도 얼마 차감안되니 마음껏 사용하셔도 됩니다."
      ],
      "metadata": {
        "id": "3Q0HYeHTlQOL"
      }
    },
    {
      "cell_type": "code",
      "source": [
        "!pip install -U langchain-openai\n",
        "\n",
        "!pip install openai\n",
        "!pip install chromadb\n",
        "!pip install tiktoken"
      ],
      "metadata": {
        "execution": {
          "iopub.status.busy": "2024-02-23T07:41:52.733756Z",
          "iopub.execute_input": "2024-02-23T07:41:52.734185Z",
          "iopub.status.idle": "2024-02-23T07:43:24.862862Z",
          "shell.execute_reply.started": "2024-02-23T07:41:52.734151Z",
          "shell.execute_reply": "2024-02-23T07:43:24.861552Z"
        },
        "trusted": true,
        "id": "a_SrgMhvlQOL"
      },
      "execution_count": null,
      "outputs": []
    },
    {
      "cell_type": "code",
      "source": [
        "from google.colab import userdata\n",
        "a=userdata.get('Secret_key')\n",
        "\n",
        "from dotenv import load_dotenv\n",
        "load_dotenv()\n",
        "\n",
        "# PyPDFLoader\n",
        "from langchain.document_loaders import PyPDFLoader\n",
        "\n",
        "# TextSplitter\n",
        "from langchain.text_splitter import RecursiveCharacterTextSplitter\n",
        "\n",
        "\n",
        "# Loader\n",
        "loader = PyPDFLoader(\"/kaggle/input/basic-01/basic_manual.pdf\")\n",
        "pages = loader.load_and_split()\n",
        "\n",
        "\n",
        "\n",
        "\n",
        "# Split\n",
        "text_splitter = RecursiveCharacterTextSplitter(\n",
        "    # Set a really small chunk size, just to show.\n",
        "    chunk_size = 300,\n",
        "    chunk_overlap  = 20,\n",
        "    length_function = len,\n",
        "    is_separator_regex = False,\n",
        ")\n",
        "texts = text_splitter.split_documents(pages)\n",
        "print(texts[0])\n",
        "\n",
        "# Embedding\n",
        "from langchain_openai import OpenAIEmbeddings\n",
        "embeddings_model = OpenAIEmbeddings(openai_api_key=\"a\")\n",
        "\n",
        "# load it into Chroma\n",
        "from langchain.vectorstores import Chroma\n",
        "db = Chroma.from_documents(texts, embeddings_model)\n",
        "\n",
        "# Question & Answer\n",
        "from langchain_openai import ChatOpenAI\n",
        "from langchain.chains import RetrievalQA\n",
        "\n",
        "\n",
        "llm = ChatOpenAI(model_name=\"gpt-3.5-turbo\", temperature=0,openai_api_key=\"a\")\n",
        "qa_chain = RetrievalQA.from_chain_type(llm,retriever=db.as_retriever())\n",
        "\n",
        "\n"
      ],
      "metadata": {
        "execution": {
          "iopub.status.busy": "2024-02-23T07:49:49.794151Z",
          "iopub.execute_input": "2024-02-23T07:49:49.794638Z",
          "iopub.status.idle": "2024-02-23T07:50:35.764094Z",
          "shell.execute_reply.started": "2024-02-23T07:49:49.794601Z",
          "shell.execute_reply": "2024-02-23T07:50:35.762183Z"
        },
        "trusted": true,
        "id": "pnta1tSOlQOM"
      },
      "execution_count": null,
      "outputs": []
    },
    {
      "cell_type": "code",
      "source": [
        "!pip install pypdf\n",
        "!pip install langchain"
      ],
      "metadata": {
        "execution": {
          "iopub.status.busy": "2024-02-23T07:39:43.577929Z",
          "iopub.execute_input": "2024-02-23T07:39:43.578307Z",
          "iopub.status.idle": "2024-02-23T07:40:35.69562Z",
          "shell.execute_reply.started": "2024-02-23T07:39:43.578278Z",
          "shell.execute_reply": "2024-02-23T07:40:35.693914Z"
        },
        "trusted": true,
        "id": "_FAAC7OflQOM"
      },
      "execution_count": null,
      "outputs": []
    },
    {
      "cell_type": "code",
      "source": [
        "\n",
        "my_dict = {}\n",
        "\n",
        "\n",
        "while True:\n",
        "    # 사용자로부터 질문 입력 받기\n",
        "    question = input(\"질문을 입력하세요 (종료하려면 '종료'를 입력하세요): \")\n",
        "\n",
        "    # '종료' 입력 시 루프 종료\n",
        "    if question == '종료':\n",
        "        break\n",
        "\n",
        "    # 답변 생성 (여기서는 간단히 예시로 \"질문에 대한 답변\"으로 대체)\n",
        "    answer = qa_chain({\"query\": question})\n",
        "\n",
        "    # 딕셔너리에 질문과 답변 추가\n",
        "    my_dict[question] = answer\n",
        "    print(answer)\n",
        "\n",
        "\n",
        "with open(\"질문과_답변.txt\", \"w\", encoding=\"utf-8\") as file:\n",
        "    for question, answer in my_dict.items():\n",
        "        file.write(f\"질문: {question}\\n\")\n",
        "        file.write(f\"답변: {answer}\\n\\n\")\n",
        "\n",
        "print(\"질문과 답변이 파일로 저장되었습니다.\")"
      ],
      "metadata": {
        "execution": {
          "iopub.status.busy": "2024-02-23T07:47:44.645906Z",
          "iopub.execute_input": "2024-02-23T07:47:44.646346Z",
          "iopub.status.idle": "2024-02-23T07:48:15.416152Z",
          "shell.execute_reply.started": "2024-02-23T07:47:44.646309Z",
          "shell.execute_reply": "2024-02-23T07:48:15.414545Z"
        },
        "trusted": true,
        "id": "5He2n8_ClQOM"
      },
      "execution_count": null,
      "outputs": []
    },
    {
      "cell_type": "code",
      "source": [
        "!pip install openai"
      ],
      "metadata": {
        "execution": {
          "iopub.status.busy": "2024-01-31T04:32:18.762581Z",
          "iopub.status.idle": "2024-01-31T04:32:18.763045Z",
          "shell.execute_reply.started": "2024-01-31T04:32:18.762824Z",
          "shell.execute_reply": "2024-01-31T04:32:18.762845Z"
        },
        "trusted": true,
        "id": "QXS4l9GwlQOM"
      },
      "execution_count": null,
      "outputs": []
    },
    {
      "cell_type": "code",
      "source": [
        "python --version\n"
      ],
      "metadata": {
        "execution": {
          "iopub.status.busy": "2024-02-23T06:21:49.56354Z",
          "iopub.execute_input": "2024-02-23T06:21:49.563879Z",
          "iopub.status.idle": "2024-02-23T06:21:49.8296Z",
          "shell.execute_reply.started": "2024-02-23T06:21:49.563845Z",
          "shell.execute_reply": "2024-02-23T06:21:49.828502Z"
        },
        "trusted": true,
        "id": "MOHeCUC4lQOM"
      },
      "execution_count": null,
      "outputs": []
    },
    {
      "cell_type": "code",
      "source": [],
      "metadata": {
        "id": "ZXvxsmp6lQOM"
      },
      "execution_count": null,
      "outputs": []
    }
  ]
}